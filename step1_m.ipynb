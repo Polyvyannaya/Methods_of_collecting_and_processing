{
 "cells": [
  {
   "cell_type": "markdown",
   "id": "8266f11f",
   "metadata": {},
   "source": [
    "1. Посмотреть документацию к API GitHub, разобраться как вывести список репозиториев для конкретного пользователя, сохранить JSON-вывод в файле *.json."
   ]
  },
  {
   "cell_type": "code",
   "execution_count": 59,
   "id": "adca1bc2",
   "metadata": {},
   "outputs": [],
   "source": [
    "import requests\n",
    "import json"
   ]
  },
  {
   "cell_type": "code",
   "execution_count": 60,
   "id": "42542de8",
   "metadata": {},
   "outputs": [],
   "source": [
    "url = 'https://api.github.com'\n",
    "user='Polyvyannaya'"
   ]
  },
  {
   "cell_type": "code",
   "execution_count": 61,
   "id": "29872a85",
   "metadata": {},
   "outputs": [],
   "source": [
    "r = requests.get(f'{url}/users/{user}/repos')"
   ]
  },
  {
   "cell_type": "code",
   "execution_count": 62,
   "id": "c7390b00",
   "metadata": {},
   "outputs": [],
   "source": [
    "with open('data.json', 'w') as f:\n",
    "    json.dump(r.json(), f)"
   ]
  },
  {
   "cell_type": "code",
   "execution_count": 63,
   "id": "2681b4b2",
   "metadata": {},
   "outputs": [
    {
     "name": "stdout",
     "output_type": "stream",
     "text": [
      "Список репозиториев пользователя Polyvyannaya\n",
      "['Methods-of-collecting-and-processing-data-from-the-Internet', 'Polyvyannaya']\n"
     ]
    }
   ],
   "source": [
    "#for i in r.json():\n",
    "#    print(i['name'])\n",
    "#print(i)\n",
    "repo = []\n",
    "for i in r.json():\n",
    "    repo.append(i['name'])\n",
    "print(f'Список репозиториев пользователя {user}')\n",
    "print(repo)"
   ]
  },
  {
   "cell_type": "markdown",
   "id": "05b900ce",
   "metadata": {},
   "source": [
    "2. Изучить список открытых API (https://www.programmableweb.com/category/all/apis). Найти среди них любое, требующее авторизацию (любого типа). Выполнить запросы к нему, пройдя авторизацию. Ответ сервера записать в файл."
   ]
  },
  {
   "cell_type": "code",
   "execution_count": 199,
   "id": "914e5953",
   "metadata": {},
   "outputs": [],
   "source": [
    "import requests"
   ]
  },
  {
   "cell_type": "code",
   "execution_count": 200,
   "id": "d999e7c6",
   "metadata": {},
   "outputs": [],
   "source": [
    "import time"
   ]
  },
  {
   "cell_type": "code",
   "execution_count": 201,
   "id": "00ae127e",
   "metadata": {},
   "outputs": [],
   "source": [
    "import json"
   ]
  },
  {
   "cell_type": "code",
   "execution_count": 202,
   "id": "337a1bb1",
   "metadata": {},
   "outputs": [
    {
     "name": "stdout",
     "output_type": "stream",
     "text": [
      "city: ['Tokyo Prefecture (JP)', 'Tokyo (JP)']\n",
      "city_id= 1850144\n"
     ]
    }
   ],
   "source": [
    "s_city = \"Tokyo\"\n",
    "city_id = 0\n",
    "appid = \"2c7931b2ec5f2430d9c69567d54ff480\"\n",
    "try:\n",
    "    res = requests.get(\"http://api.openweathermap.org/data/2.5/find\",\n",
    "                 params={'q': s_city, 'type': 'like', 'units': 'metric', 'APPID': appid})\n",
    "    data = res.json()\n",
    "    cities = [\"{} ({})\".format(d['name'], d['sys']['country'])\n",
    "              for d in data['list']]\n",
    "    print(\"city:\", cities)\n",
    "    city_id = data['list'][0]['id']\n",
    "    print('city_id=', city_id)\n",
    "except Exception as e:\n",
    "    print(\"Exception (find):\", e)\n",
    "    pass"
   ]
  },
  {
   "cell_type": "code",
   "execution_count": 203,
   "id": "153146ba",
   "metadata": {},
   "outputs": [],
   "source": [
    "def get_data(service, appid,city):\n",
    "    while True:\n",
    "        time.sleep(1)\n",
    "        url = f'{service}?q={city}&appid={appid}'\n",
    "        response = requests.get(url)\n",
    "        if response.status_code == 200:\n",
    "            print(url)\n",
    "            break\n",
    "    return response.json()"
   ]
  },
  {
   "cell_type": "code",
   "execution_count": 204,
   "id": "63f08631",
   "metadata": {},
   "outputs": [],
   "source": [
    "appid = '2c7931b2ec5f2430d9c69567d54ff480'"
   ]
  },
  {
   "cell_type": "code",
   "execution_count": 205,
   "id": "8c7a992c",
   "metadata": {},
   "outputs": [],
   "source": [
    "service = 'https://api.openweathermap.org/data/2.5/find'"
   ]
  },
  {
   "cell_type": "code",
   "execution_count": 206,
   "id": "6e9c70f5",
   "metadata": {},
   "outputs": [],
   "source": [
    "city = 'Tokyo'"
   ]
  },
  {
   "cell_type": "code",
   "execution_count": 207,
   "id": "cdd97d78",
   "metadata": {},
   "outputs": [
    {
     "name": "stdout",
     "output_type": "stream",
     "text": [
      "https://api.openweathermap.org/data/2.5/find?q=Tokyo&appid=2c7931b2ec5f2430d9c69567d54ff480\n",
      "{'message': 'accurate', 'cod': '200', 'count': 2, 'list': [{'id': 1850144, 'name': 'Tokyo Prefecture', 'coord': {'lat': 35.6895, 'lon': 139.6917}, 'main': {'temp': 294.3, 'feels_like': 293.88, 'temp_min': 291.77, 'temp_max': 295.79, 'pressure': 1014, 'humidity': 54}, 'dt': 1635386950, 'wind': {'speed': 1.34, 'deg': 349}, 'sys': {'country': 'JP'}, 'rain': None, 'snow': None, 'clouds': {'all': 20}, 'weather': [{'id': 801, 'main': 'Clouds', 'description': 'few clouds', 'icon': '02d'}]}, {'id': 1850147, 'name': 'Tokyo', 'coord': {'lat': 35.6895, 'lon': 139.6917}, 'main': {'temp': 294.3, 'feels_like': 293.88, 'temp_min': 291.77, 'temp_max': 295.79, 'pressure': 1014, 'humidity': 54}, 'dt': 1635386950, 'wind': {'speed': 1.34, 'deg': 349}, 'sys': {'country': 'JP'}, 'rain': None, 'snow': None, 'clouds': {'all': 20}, 'weather': [{'id': 801, 'main': 'Clouds', 'description': 'few clouds', 'icon': '02d'}]}]}\n"
     ]
    }
   ],
   "source": [
    "response = get_data(service, appid, city)\n",
    "print(response)"
   ]
  },
  {
   "cell_type": "code",
   "execution_count": 208,
   "id": "e430818f",
   "metadata": {},
   "outputs": [],
   "source": [
    "with open('1_2_weather.json', 'w') as f:\n",
    "    json_repo = json.dump(response, f)"
   ]
  },
  {
   "cell_type": "code",
   "execution_count": null,
   "id": "58cee0e6",
   "metadata": {},
   "outputs": [],
   "source": []
  }
 ],
 "metadata": {
  "kernelspec": {
   "display_name": "Python 3",
   "language": "python",
   "name": "python3"
  },
  "language_info": {
   "codemirror_mode": {
    "name": "ipython",
    "version": 3
   },
   "file_extension": ".py",
   "mimetype": "text/x-python",
   "name": "python",
   "nbconvert_exporter": "python",
   "pygments_lexer": "ipython3",
   "version": "3.8.8"
  }
 },
 "nbformat": 4,
 "nbformat_minor": 5
}
